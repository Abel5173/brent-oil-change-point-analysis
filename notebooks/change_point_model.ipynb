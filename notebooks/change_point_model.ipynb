# notebooks/change_point_model.ipynb
{
  "cells": [
    {
      "cell_type": "markdown",
      "source": [
        "# Task 2: Bayesian Change Point Modeling for Brent Oil Prices\n\n",
        "This notebook implements a Bayesian change point model using PyMC3 to detect structural breaks in Brent oil price log returns (1987–2022). It aligns change points with events from `data/events.csv` and generates `data/change_points.csv` for Task 3.\n\n",
        "## Objectives\n",
        "- Load price and event data.\n",
        "- Model a single change point in log returns (mean shift).\n",
        "- Validate model convergence.\n",
        "- Align change points with events.\n",
        "- Save results for dashboard.\n",
        "## Data\n",
        "- Prices: `data/brent_oil_prices.csv` (Date: DD-MMM-YY, Price: USD/barrel).\n",
        "- Events: `data/events.csv` (Date: YYYY-MM-DD, Event: description)."
      ]
    },
    {
      "cell_type": "code",
      "source": [
        "import pandas as pd\n",
        "import numpy as np\n",
        "import pymc3 as pm\n",
        "import matplotlib.pyplot as plt\n",
        "import seaborn as sns\n",
        "\n",
        "plt.style.use('seaborn')\n",
        "%matplotlib inline\n",
        "\n",
        "# Load price data\n",
        "try:\n",
        "    prices = pd.read_csv('../data/brent_oil_prices.csv')\n",
        "    prices['Date'] = pd.to_datetime(prices['Date'], format='%d-%b-%y')\n",
        "    prices.set_index('Date', inplace=True)\n",
        "except FileNotFoundError:\n",
        "    print('Error: brent_oil_prices.csv not found.')\n",
        "    exit()\n",
        "\n",
        "# Compute log returns\n",
        "prices['Log_Returns'] = np.log(prices['Price']).diff().dropna()\n",
        "\n",
        "# Load event data\n",
        "try:\n",
        "    events = pd.read_csv('../data/events.csv')\n",
        "    events['Date'] = pd.to_datetime(events['Date'], format='%Y-%m-%d')\n",
        "except FileNotFoundError:\n",
        "    print('Error: events.csv not found.')\n",
        "    exit()\n",
        "\n",
        "print('Price Data (first 5 rows):')\n",
        "print(prices.head())\n",
        "print('\\nEvent Data:')\n",
        "print(events)"
      ],
      "execution_count": null,
      "outputs": []
    },
    {
      "cell_type": "markdown",
      "source": [
        "## 2. Bayesian Change Point Model\n",
        "Model a single change point in log returns using PyMC3, assuming a mean shift."
      ]
    },
    {
      "cell_type": "code",
      "source": [
        "log_returns = prices['Log_Returns'].dropna().values\n",
        "n = len(log_returns)\n",
        "idx = np.arange(n)\n",
        "\n",
        "with pm.Model() as model:\n",
        "    mu_1 = pm.Normal('mu_1', mu=0, sd=0.1)\n",
        "    mu_2 = pm.Normal('mu_2', mu=0, sd=0.1)\n",
        "    tau = pm.DiscreteUniform('tau', lower=0, upper=n-1)\n",
        "    mu = pm.Deterministic('mu', pm.math.switch(tau <= idx, mu_1, mu_2))\n",
        "    sigma = pm.HalfNormal('sigma', sd=0.1)\n",
        "    observation = pm.Normal('obs', mu=mu, sd=sigma, observed=log_returns)\n",
        "    trace = pm.sample(2000, tune=1000, return_inferencedata=False)"
      ],
      "execution_count": null,
      "outputs": []
    },
    {
      "cell_type": "markdown",
      "source": [
        "## 3. Validate Model\n",
        "Check convergence with trace plots and R-hat."
      ]
    },
    {
      "cell_type": "code",
      "source": [
        "pm.traceplot(trace, var_names=['mu_1', 'mu_2', 'tau', 'sigma'])\n",
        "plt.show()\n",
        "print('R-hat diagnostics:')\n",
        "print(pm.rhat(trace))\n",
        "print('\\nPosterior Summary:')\n",
        "print(pm.summary(trace, var_names=['mu_1', 'mu_2', 'tau', 'sigma']))"
      ],
      "execution_count": null,
      "outputs": []
    },
    {
      "cell_type": "markdown",
      "source": [
        "## 4. Extract Change Points\n",
        "Convert `tau` to a date, compute mean price shifts, and align with events."
      ]
    },
    {
      "cell_type": "code",
      "source": [
        "tau_mean = int(np.mean(trace['tau']))\n",
        "change_point_date = prices.index[tau_mean]\n",
        "prices_before = prices['Price'][:tau_mean].mean()\n",
        "prices_after = prices['Price'][tau_mean:].mean()\n",
        "events['Date_Diff'] = abs(events['Date'] - change_point_date)\n",
        "closest_event = events.loc[events['Date_Diff'].idxmin()]\n",
        "change_points = [{\n",
        "    'Date': change_point_date.strftime('%Y-%m-%d'),\n",
        "    'Mean_Before': prices_before,\n",
        "    'Mean_After': prices_after,\n",
        "    'Description': f'Change point near {closest_event[\"Event\"]}'\n",
        "}]\n",
        "pd.DataFrame(change_points).to_csv('../data/change_points.csv', index=False)\n",
        "print('Detected Change Point:')\n",
        "print(f'Date: {change_point_date.strftime(\"%Y-%m-%d\")}')\n",
        "print(f'Mean Price Before: ${prices_before:.2f}')\n",
        "print(f'Mean Price After: ${prices_after:.2f}')\n",
        "print(f'Associated Event: {closest_event[\"Event\"]} ({closest_event[\"Date\"].strftime(\"%Y-%m-%d\")})')"
      ],
      "execution_count": null,
      "outputs": []
    },
    {
      "cell_type": "markdown",
      "source": [
        "## 5. Visualize Change Point\n",
        "Plot prices with the change point and associated event."
      ]
    },
    {
      "cell_type": "code",
      "source": [
        "plt.figure(figsize=(14, 6))\n",
        "plt.plot(prices['Price'], label='Brent Oil Price', color='blue')\n",
        "plt.axvline(x=change_point_date, color='green', linestyle='--', label='Change Point')\n",
        "plt.axvline(x=closest_event['Date'], color='red', linestyle='--', alpha=0.5, label='Closest Event')\n",
        "plt.text(change_point_date, prices['Price'].max() * 0.9, f'Change Point ({change_point_date.strftime(\"%Y-%m-%d\")})', rotation=45, fontsize=8, color='green')\n",
        "plt.text(closest_event['Date'], prices['Price'].max() * 0.8, f'{closest_event[\"Event\"]}', rotation=45, fontsize=8, color='red')\n",
        "plt.title('Brent Oil Prices with Detected Change Point', fontsize=14)\n",
        "plt.xlabel('Date', fontsize=12)\n",
        "plt.ylabel('Price (USD/barrel)', fontsize=12)\n",
        "plt.legend()\n",
        "plt.grid(True)\n",
        "plt.show()"
      ],
      "execution_count": null,
      "outputs": []
    },
    {
      "cell_type": "markdown",
      "source": [
        "## 6. Insights\n",
        "- Change point detected around {change_point_date.strftime('%Y-%m-%d')}, with mean price shifting from ${prices_before:.2f} to ${prices_after:.2f}.\n",
        "- Aligns with '{closest_event[\"Event\"]}' ({closest_event['Date'].strftime('%Y-%m-%d')}).\n",
        "- **Correlation vs. Causation**: Alignment suggests influence, but other factors may contribute.\n",
        "- **Stakeholders**:\n",
        "  - Investors: Monitor similar events for volatility.\n",
        "  - Policymakers: Ensure supply stability.\n",
        "  - Energy Companies: Adjust strategies post-change points.\n",
        "- **Limitations**: Single change point model; consider multiple change points for future work."
      ]
    }
  ],
  "metadata": {
    "kernelspec": {
      "display_name": "Python 3",
      "language": "python",
      "name": "python3"
    },
    "language_info": {
      "codemirror_mode": {
        "name": "ipython",
        "version": 3
      },
      "file_extension": ".py",
      "mimetype": "text/x-python",
      "name": "python",
      "nbconvert_exporter": "python",
      "pygments_lexer": "ipython3",
      "version": "3.8.10"
    }
  },
  "nbformat": 4,
  "nbformat_minor": 4
}
